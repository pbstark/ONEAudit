{
 "cells": [
  {
   "cell_type": "markdown",
   "id": "b95a6ded-5f21-4fa2-9538-37318c4f8c25",
   "metadata": {},
   "source": [
    "# Simulate sample sizes for batch-level comparison audits and ONEAudit"
   ]
  },
  {
   "cell_type": "code",
   "execution_count": 1,
   "id": "582de3b5-424c-4090-95b1-0505645e6981",
   "metadata": {},
   "outputs": [],
   "source": [
    "import math\n",
    "import numpy as np\n",
    "import scipy as sp\n",
    "import pandas as pd\n",
    "import os\n",
    "import sys\n",
    "import itertools\n",
    "\n",
    "np.random.seed(seed=4197168)"
   ]
  },
  {
   "cell_type": "code",
   "execution_count": 2,
   "id": "ec6bbc74-62f6-4e9d-af41-5122266db1f1",
   "metadata": {},
   "outputs": [],
   "source": [
    "def sprt_mart(x : np.array, N : int, mu : float=1/2, eta: float=1-np.finfo(float).eps, \\\n",
    "              u: float=1, random_order = True):\n",
    "    '''\n",
    "    Finds the p value for the hypothesis that the population \n",
    "    mean is less than or equal to mu against the alternative that it is eta,\n",
    "    for a population of size N of values in the interval [0, u].\n",
    "    \n",
    "    Generalizes Wald's SPRT for the Bernoulli to sampling without replacement and to bounded\n",
    "    values rather than binary values.\n",
    "\n",
    "    If N is finite, assumes the sample is drawn without replacement\n",
    "    If N is infinite, assumes the sample is with replacement\n",
    "    \n",
    "    Data are assumed to be in random order. If not, the calculation for sampling without replacement is incorrect.\n",
    "\n",
    "\n",
    "    \n",
    "    Parameters:\n",
    "    -----------\n",
    "    x : binary list, one element per draw. A list element is 1 if the \n",
    "        the corresponding trial was a success\n",
    "    N : int\n",
    "        population size for sampling without replacement, or np.infinity for \n",
    "        sampling with replacement\n",
    "    theta : float in (0,u)\n",
    "        hypothesized population mean\n",
    "    eta : float in (0,u)\n",
    "        alternative hypothesized population mean\n",
    "    random_order : Boolean\n",
    "        if the data are in random order, setting this to True can improve the power.\n",
    "        If the data are not in random order, set to False\n",
    "    '''\n",
    "    if any((xx < 0 or xx > u) for xx in x):\n",
    "        raise ValueError(f'Data out of range [0,{u}]')\n",
    "    if np.isfinite(N):\n",
    "        if not random_order:\n",
    "            raise ValueError(\"data must be in random order for samples without replacement\")\n",
    "        S = np.insert(np.cumsum(x),0,0)[0:-1]  # 0, x_1, x_1+x_2, ...,  \n",
    "        j = np.arange(1,len(x)+1)              # 1, 2, 3, ..., len(x)\n",
    "        m = (N*mu-S)/(N-j+1)                   # mean of population after (j-1)st draw, if null is true\n",
    "    else:\n",
    "        m = mu\n",
    "    with np.errstate(divide='ignore',invalid='ignore'): \n",
    "        terms = np.cumprod((x*eta/m + (u-x)*(u-eta)/(u-m))/u) # generalization of Bernoulli SPRT\n",
    "    terms[m<0] = np.inf                        # the null is surely false\n",
    "    return terms"
   ]
  },
  {
   "cell_type": "code",
   "execution_count": 3,
   "id": "709ae5b1-b914-44bd-a3c9-7f782d4d8148",
   "metadata": {},
   "outputs": [],
   "source": [
    "def shrink_trunc(x: np.array, N: int, mu: float=1/2, nu: float=1-np.finfo(float).eps, u: float=1, c: float=1/2, \n",
    "                 d: float=100) -> np.array: \n",
    "    '''\n",
    "    apply the shrinkage and truncation estimator to an array\n",
    "    \n",
    "    sample mean is shrunk towards nu, with relative weight d times the weight of a single observation.\n",
    "    estimate is truncated above at u-u*eps and below at mu_j+e_j(c,j)\n",
    "    \n",
    "    S_1 = 0\n",
    "    S_j = \\sum_{i=1}^{j-1} x_i, j > 1\n",
    "    m_j = (N*mu-S_j)/(N-j+1) if np.isfinite(N) else mu\n",
    "    e_j = c/sqrt(d+j-1)\n",
    "    eta_j =  ( (d*nu + S_j)/(d+j-1) \\vee (m_j+e_j) ) \\wedge u*(1-eps)\n",
    "    \n",
    "    Parameters\n",
    "    ----------\n",
    "    x : np.array\n",
    "        input data       \n",
    "    mu : float in (0, 1)\n",
    "        hypothesized population mean\n",
    "    eta : float in (t, 1)\n",
    "        initial alternative hypothethesized value for the population mean\n",
    "    c : positive float\n",
    "        scale factor for allowing the estimated mean to approach t from above\n",
    "    d : positive float\n",
    "        relative weight of nu compared to an observation, in updating the alternative for each term\n",
    "    '''\n",
    "    S = np.insert(np.cumsum(x),0,0)[0:-1]  # 0, x_1, x_1+x_2, ...,  \n",
    "    j = np.arange(1,len(x)+1)              # 1, 2, 3, ..., len(x)\n",
    "    m = (N*mu-S)/(N-j+1) if np.isfinite(N) else mu   # mean of population after (j-1)st draw, if null is true \n",
    "    return np.minimum(u*(1-np.finfo(float).eps), np.maximum((d*nu+S)/(d+j-1),m+c/np.sqrt(d+j-1)))"
   ]
  },
  {
   "cell_type": "code",
   "execution_count": 4,
   "id": "4ce9851b-ce81-4f49-b756-c7c80f5580da",
   "metadata": {},
   "outputs": [],
   "source": [
    "def alpha_mart(x: np.array, N: int, mu: float=1/2, eta: float=1-np.finfo(float).eps, u: float=1, \\\n",
    "               estim: callable=shrink_trunc) -> np.array :\n",
    "    '''\n",
    "    Finds the ALPHA martingale for the hypothesis that the population \n",
    "    mean is less than or equal to t using a martingale method,\n",
    "    for a population of size N, based on a series of draws x.\n",
    "    \n",
    "    The draws must be in random order, or the sequence is not a martingale under the null\n",
    "    \n",
    "    If N is finite, assumes the sample is drawn without replacement\n",
    "    If N is infinite, assumes the sample is with replacement\n",
    "\n",
    "    Parameters\n",
    "    ----------\n",
    "    x : list corresponding to the data\n",
    "    N : int\n",
    "        population size for sampling without replacement, or np.infinity for sampling with replacement\n",
    "    mu : float in (0,1)\n",
    "        hypothesized fraction of ones in the population\n",
    "    eta : float in (t,1) \n",
    "        alternative hypothesized population mean\n",
    "    estim : callable\n",
    "        estim(x, N, mu, eta, u) -> np.array of length len(x), the sequence of values of eta_j for ALPHA\n",
    "               \n",
    "    Returns\n",
    "    -------   \n",
    "    terms : array\n",
    "        sequence of terms that would be a nonnegative supermartingale under the null\n",
    "    '''\n",
    "    S = np.insert(np.cumsum(x),0,0)[0:-1]  # 0, x_1, x_1+x_2, ...,  \n",
    "    j = np.arange(1,len(x)+1)              # 1, 2, 3, ..., len(x)\n",
    "    m = (N*mu-S)/(N-j+1) if np.isfinite(N) else mu   # mean of population after (j-1)st draw, if null is true \n",
    "    etaj = estim(x, N, mu, eta, u) \n",
    "    with np.errstate(divide='ignore',invalid='ignore'):\n",
    "        terms = np.cumprod((x*etaj/m + (u-x)*(u-etaj)/(u-m))/u)\n",
    "    terms[m<0] = np.inf\n",
    "    return terms"
   ]
  },
  {
   "cell_type": "code",
   "execution_count": 5,
   "id": "fad99d2a-190c-4da3-97ac-3a9a3cdaa088",
   "metadata": {},
   "outputs": [],
   "source": [
    "def oneaudit(x, alpha: float, u_over: float, eta: float, dl: list, c: float=1/2, reps=10**3, verbose=True):\n",
    "    '''\n",
    "    test whether the assorter mean is \\le 1/2 using ballot polling, with ALPHA mart and the SPRT\n",
    "    \n",
    "    Parameters\n",
    "    ----------\n",
    "    x: numpy array\n",
    "        the data\n",
    "    alpha: float\n",
    "        risk limit\n",
    "    u_over: float\n",
    "        a priori upper bound on the population of scaled overstatements\n",
    "    eta: float\n",
    "        starting alternative value \n",
    "    '''\n",
    "    resl = ['rej_N','not_rej_N']\n",
    "\n",
    "    results_inf = {}\n",
    "    for r in resl:\n",
    "        results_inf[r]=0\n",
    "\n",
    "    results_d = {}\n",
    "    for d in dl:\n",
    "        results_d[d] = {}\n",
    "        for r in resl:\n",
    "            results_d[d][r]=0\n",
    "\n",
    "    N = len(x)\n",
    "    if verbose:\n",
    "        print('reps: ', end=' ')\n",
    "    for i in range(reps):\n",
    "        if verbose:\n",
    "            print(f'{i} ', end=' ')\n",
    "        np.random.shuffle(x)                \n",
    "        # OneAudit a priori\n",
    "        mart = sprt_mart(x, N, mu=1/2, eta=eta, u=u_over, random_order=True)\n",
    "        # rejections by N\n",
    "        found = np.argmax(mart >= 1/alpha)\n",
    "        results_inf['rej_N'] += found\n",
    "        results_inf['not_rej_N'] += (found==0) # should not occur        \n",
    "\n",
    "        # OneAudit ALPHA\n",
    "        for d in dl:               \n",
    "            mart = alpha_mart(x, N, mu=1/2, eta=eta, u=u_over, \\\n",
    "                              estim=lambda x, N, mu, eta, u: shrink_trunc(x,N,mu,eta,u,c=c,d=d))\n",
    "            # rejections by N\n",
    "            found = np.argmax(mart >= 1/alpha)\n",
    "            results_d[d]['rej_N'] += found\n",
    "            results_d[d]['not_rej_N'] += (found==0) # should not occur \n",
    "    for r in resl:\n",
    "        results_inf[r] /= reps\n",
    "\n",
    "    for d in dl:\n",
    "        for r in resl:\n",
    "            results_d[d][r] /= reps\n",
    "    return results_inf, results_d"
   ]
  },
  {
   "cell_type": "code",
   "execution_count": 6,
   "id": "a045ff90-8b7d-4092-8e0d-c0be2a856e8f",
   "metadata": {},
   "outputs": [],
   "source": [
    "def ballot_polling(x, alpha: float, eta: float, dl: list, c: float=1/2, reps=10**3, verbose=True):\n",
    "    '''\n",
    "    test whether the assorter mean is \\le 1/2 using ballot polling, with ALPHA mart and the SPRT\n",
    "    '''\n",
    "    resl = ['rej_N','not_rej_N']\n",
    "\n",
    "    results_inf = {}\n",
    "    for r in resl:\n",
    "        results_inf[r]=0\n",
    "\n",
    "    results_d = {}\n",
    "    for d in dl:\n",
    "        results_d[d] = {}\n",
    "        for r in resl:\n",
    "            results_d[d][r]=0\n",
    "    N = len(x)\n",
    "\n",
    "    if verbose:\n",
    "        print('reps: ', end=' ')\n",
    "    for i in range(reps):\n",
    "        if verbose:\n",
    "            print(f'{i} ', end=' ')\n",
    "        np.random.shuffle(x)                \n",
    "        # OneAudit a priori\n",
    "        mart = sprt_mart(x, N, mu=1/2, eta=eta, u=1, random_order=True)\n",
    "        # rejections by N\n",
    "        found = np.argmax(mart >= 1/alpha)\n",
    "        results_inf['rej_N'] += found\n",
    "        results_inf['not_rej_N'] += (found==0) # should not occur        \n",
    "\n",
    "        # OneAudit ALPHA\n",
    "        for d in dl:               \n",
    "            mart = alpha_mart(x, N, mu=1/2, eta=eta, u=1, \\\n",
    "                              estim=lambda x, N, mu, eta, u: shrink_trunc(x,N,mu,eta,u,c=c,d=d))\n",
    "            # rejections by N\n",
    "            found = np.argmax(mart >= 1/alpha)\n",
    "            results_d[d]['rej_N'] += found\n",
    "            results_d[d]['not_rej_N'] += (found==0) # should not occur    \n",
    "    for r in resl:\n",
    "        results_inf[r] /= reps\n",
    "\n",
    "    for d in dl:\n",
    "        for r in resl:\n",
    "            results_d[d][r] /= reps\n",
    "    return results_inf, results_d"
   ]
  },
  {
   "cell_type": "code",
   "execution_count": 7,
   "id": "492aea9d-2924-4d31-bfed-d76db4797549",
   "metadata": {},
   "outputs": [],
   "source": [
    "def oneaudit_ppeb(x, alpha: float, u_over: float, eta: float, dl: list, c: float=1/2, reps=10**3, verbose=True):\n",
    "    '''\n",
    "    test whether the assorter mean is \\le 1/2 using weighted sampling ballot polling with , with ALPHA mart and the SPRT\n",
    "    \n",
    "    Parameters\n",
    "    ----------\n",
    "    x: numpy array\n",
    "        the data\n",
    "    alpha: float\n",
    "        risk limit\n",
    "    u_over: float\n",
    "        a priori upper bound on the population of scaled overstatements\n",
    "    eta: float\n",
    "        starting alternative value \n",
    "    '''\n",
    "    resl = ['rej_N','not_rej_N']\n",
    "\n",
    "    results_inf = {}\n",
    "    for r in resl:\n",
    "        results_inf[r]=0\n",
    "\n",
    "    results_d = {}\n",
    "    for d in dl:\n",
    "        results_d[d] = {}\n",
    "        for r in resl:\n",
    "            results_d[d][r]=0\n",
    "\n",
    "    N = len(x)\n",
    "    if verbose:\n",
    "        print('reps: ', end=' ')\n",
    "    for i in range(reps):\n",
    "        if verbose:\n",
    "            print(f'{i} ', end=' ')\n",
    "        np.random.shuffle(x)                \n",
    "        # OneAudit a priori\n",
    "        mart = sprt_mart(x, N, mu=1/2, eta=eta, u=u_over, random_order=True)\n",
    "        # rejections by N\n",
    "        found = np.argmax(mart >= 1/alpha)\n",
    "        results_inf['rej_N'] += found\n",
    "        results_inf['not_rej_N'] += (found==0) # should not occur        \n",
    "\n",
    "        # OneAudit ALPHA\n",
    "        for d in dl:               \n",
    "            mart = alpha_mart(x, N, mu=1/2, eta=eta, u=u_over, \\\n",
    "                              estim=lambda x, N, mu, eta, u: shrink_trunc(x,N,mu,eta,u,c=c,d=d))\n",
    "            # rejections by N\n",
    "            found = np.argmax(mart >= 1/alpha)\n",
    "            results_d[d]['rej_N'] += found\n",
    "            results_d[d]['not_rej_N'] += (found==0) # should not occur \n",
    "    for r in resl:\n",
    "        results_inf[r] /= reps\n",
    "\n",
    "    for d in dl:\n",
    "        for r in resl:\n",
    "            results_d[d][r] /= reps\n",
    "    return results_inf, results_d"
   ]
  },
  {
   "cell_type": "code",
   "execution_count": 8,
   "id": "bf05f2a0-348f-4387-b4cd-2ea94c38b618",
   "metadata": {},
   "outputs": [],
   "source": [
    "def B(c: float, b: float, v: float, u: float=1):\n",
    "    '''\n",
    "    overstatement assorter\n",
    "    \n",
    "    Parameters\n",
    "    ----------\n",
    "    c: assorter applied to the CVR\n",
    "    b: assorter applied to the physical card\n",
    "    v: reported assorter margin, 2*(assorter mean)-1\n",
    "    u: a priori upper bound on the assorter\n",
    "    \n",
    "    Returns\n",
    "    -------\n",
    "    overstatement assorter value    \n",
    "    '''\n",
    "    return (u+b-c)/(2*u-v)"
   ]
  },
  {
   "cell_type": "code",
   "execution_count": 9,
   "id": "3df33466-4966-4f64-bca7-1085b774df32",
   "metadata": {},
   "outputs": [],
   "source": [
    "def make_data(batches: pd.DataFrame, v: float, eta: float, u: float=1):\n",
    "    '''\n",
    "    make CVRs and assorter values for simulations\n",
    "    re-scales the overstatement assorter across batches to have minimum 0\n",
    "    \n",
    "    Parameters\n",
    "    ----------\n",
    "    batches: pandas dataframe\n",
    "        batch data\n",
    "    v: float\n",
    "        reported assorter margin\n",
    "    eta: float\n",
    "        alternative value for the overstatement assorter mean\n",
    "    u: float\n",
    "        upper bound on the raw assorter\n",
    "        \n",
    "    Returns\n",
    "    -------\n",
    "    tuple:\n",
    "        synth: ONEAudit data\n",
    "        synth_a: raw assorter data\n",
    "        ub: upper bound on any of the scaled overstatements\n",
    "        \n",
    "    depends\n",
    "    -------\n",
    "    B: callable\n",
    "        overstatement assorter\n",
    "    winr: string\n",
    "        column ID for winner\n",
    "    losr: string\n",
    "        column ID for loser\n",
    "    cards: string\n",
    "        column ID for number of cards\n",
    "    '''\n",
    "    synth = []\n",
    "    synth_a = []\n",
    "    lb, ub = 1, 0\n",
    "    for ix, r in batches.iterrows():\n",
    "        ub = max(ub, big := B(r['A'], 1, v, u))\n",
    "        lb = min(lb, small := B(r['A'], 0, v, u))       \n",
    "        synth.append(big*np.ones(r[winr]))\n",
    "        synth.append(small*np.ones(r[losr]))\n",
    "        synth.append(B(r['A'], 1/2, v, u)*np.ones(r[cards]-r[winr]-r[losr]))\n",
    "        synth_a.append(np.ones(r[winr]))\n",
    "        synth_a.append(np.zeros(r[losr]))\n",
    "        synth_a.append(0.5*np.ones(r[cards]-r[winr]-r[losr]))\n",
    "    # renormalize synth to have minimum 0 and null mean 1/2\n",
    "    synth = np.array(list(itertools.chain(*synth)))\n",
    "    scale = 1/(1-2*lb)  # restore null mean to 1/2\n",
    "    synth = (synth-lb)*scale # shift minumum to 0\n",
    "    u_synth = (ub-lb)*scale\n",
    "    eta_synth = (eta-lb)*scale\n",
    "    synth_a = np.array(list(itertools.chain(*synth_a)))\n",
    "    return synth, synth_a, eta_synth, u_synth\n"
   ]
  },
  {
   "cell_type": "markdown",
   "id": "6da2e431-e501-4283-b50d-73300a747090",
   "metadata": {
    "tags": []
   },
   "source": [
    "# Synthetic AvB"
   ]
  },
  {
   "cell_type": "markdown",
   "id": "ed71653e-3369-4e95-bbf5-5dfaa15b1d92",
   "metadata": {
    "tags": []
   },
   "source": [
    "Suppose there were 20,000 cards cast in the Alice v. Bob contest.\n",
    "Of the 20,000 ballot cards, 10,000 were cast by mail and have linked CVRs.\n",
    "Of those 10,000 CVRs, 5,000 report votes for Alice, 4,000 report votes for Bob, and 1,000 report undervotes.\n",
    "The remaining 10,000 cards were cast in 10 precincts numbered 1 to 10, with 1,000 cards in each.\n",
    "The batch subtotals for 5 of those precincts show 900 votes for Alice and 100 for Bob; the other 5 show 900 votes for Bob and\n",
    "100 for Alice.\n",
    "The reported results are thus 10,000 votes for Alice, 9,000 for Bob, and 1,000 undervotes.\n",
    "The margin is 1,000 votes; the \\emph{diluted margin} (margin in votes, divided by cards cast) is $1000/20000 = 5\\%$."
   ]
  },
  {
   "cell_type": "code",
   "execution_count": 10,
   "id": "131905a3-5da8-4a57-8199-f20edfe3d5b2",
   "metadata": {},
   "outputs": [],
   "source": [
    "N = 20000\n",
    "Abar = (10000*1 + 1000*.5 + 9000*0)/N\n",
    "v = 2*Abar-1\n",
    "u=1\n",
    "eta = u/(2*u-v)\n",
    "u_over = 2*eta"
   ]
  },
  {
   "cell_type": "code",
   "execution_count": 11,
   "id": "3f396220-c949-40b7-a06c-fc48e819c2ff",
   "metadata": {},
   "outputs": [
    {
     "name": "stdout",
     "output_type": "stream",
     "text": [
      "eta=0.5128205128205129 v=0.050000000000000044 u_over=1.0256410256410258\n"
     ]
    }
   ],
   "source": [
    "print(f'{eta=} {v=} {u_over=}')"
   ]
  },
  {
   "cell_type": "code",
   "execution_count": 12,
   "id": "36a35e0a-30ca-468d-8f6b-f0fa49203575",
   "metadata": {},
   "outputs": [
    {
     "name": "stdout",
     "output_type": "stream",
     "text": [
      "aa=0.5641025641025642 ba=0.05128205128205127 ab=0.9743589743589743 bb=0.46153846153846156 19999 0.5128435908974937\n"
     ]
    }
   ],
   "source": [
    "faa = 0.9 # fraction of votes for Alice in an Alice-majority precinct\n",
    "fab = 0.1 # fraction of votes for Alice in an Bob-majority precinct\n",
    "N_per_pct = 1000\n",
    "pct = 10\n",
    "# vote for Alice in a precinct with a majority for Alice:\n",
    "aa = B(faa, 1, v, u)\n",
    "# vote for Bob in a precinct with a majority for Alice:\n",
    "ba = B(faa, 0, v, u)\n",
    "# vote for Alice in a precinct with a majority for Bob:\n",
    "ab = B(fab, 1, v, u) \n",
    "# vote for Bob in a precinct with a majority for Bob:\n",
    "bb = B(fab, 0, v, u)\n",
    "# CVRs\n",
    "c = B(1, 1, v, u)\n",
    "# make the overstatement data\n",
    "x = np.array([c]*10000 \n",
    "             + [aa]*int(faa*N_per_pct*pct/2)\n",
    "             + [ba]*int((1-faa)*N_per_pct*pct/2)\n",
    "             + [ab]*int(fab*N_per_pct*pct/2)\n",
    "             + [bb]*int((1-fab)*N_per_pct*pct/2)\n",
    "            )\n",
    "print(f'{aa=} {ba=} {ab=} {bb=} {len(x)} {np.mean(x)}')"
   ]
  },
  {
   "cell_type": "code",
   "execution_count": 13,
   "id": "b2fb377f-fc6d-4ef3-bcb8-210f15a47bee",
   "metadata": {},
   "outputs": [
    {
     "data": {
      "text/plain": [
       "({'rej_N': 8469.0914, 'not_rej_N': 0.0},\n",
       " {10: {'rej_N': 2697.6558, 'not_rej_N': 0.0},\n",
       "  100: {'rej_N': 910.8872, 'not_rej_N': 0.0},\n",
       "  1000: {'rej_N': 960.9379, 'not_rej_N': 0.0},\n",
       "  10000: {'rej_N': 2943.1339, 'not_rej_N': 0.0}})"
      ]
     },
     "execution_count": 13,
     "metadata": {},
     "output_type": "execute_result"
    }
   ],
   "source": [
    "c = 1/2\n",
    "reps = 10**4\n",
    "dl = [10, 100, 1000, 10000]\n",
    "alpha = 0.05\n",
    "\n",
    "results_inf, results_d = oneaudit(x, alpha, u_over, u_over, dl, c, reps, verbose=False)\n",
    "results_inf, results_d"
   ]
  },
  {
   "cell_type": "code",
   "execution_count": 14,
   "id": "c99e72f0-2660-4e3b-8272-03d1ce6da2bf",
   "metadata": {},
   "outputs": [
    {
     "data": {
      "text/plain": [
       "({'rej_N': 2232.1565, 'not_rej_N': 0.0},\n",
       " {10: {'rej_N': 2999.0083, 'not_rej_N': 0.0},\n",
       "  100: {'rej_N': 3202.1575, 'not_rej_N': 0.0},\n",
       "  1000: {'rej_N': 2908.4767, 'not_rej_N': 0.0},\n",
       "  10000: {'rej_N': 2340.5868, 'not_rej_N': 0.0}})"
      ]
     },
     "execution_count": 14,
     "metadata": {},
     "output_type": "execute_result"
    }
   ],
   "source": [
    "results_inf, results_d = ballot_polling(x, alpha, Abar, dl, c, reps, verbose=False)\n",
    "results_inf, results_d"
   ]
  },
  {
   "cell_type": "markdown",
   "id": "07aa007e-ec24-43d1-8ad4-cb5a55b40f73",
   "metadata": {},
   "source": [
    "## Kaplan-Markov batch-level comparison using PPEB\n",
    "\n",
    "\n",
    "Convert to SHANGRLA notation. \n",
    "\n",
    "Ballots are partitioned into batches $\\{\\mathcal{B}_k\\}_{k=1}^K$.\n",
    "Batch $\\mathcal{B}_k$ contains $N_k \\ge 0$ cards; there are $N = \\sum_k N_k$ cards in all.\n",
    "The assorter upper bound is $u$.\n",
    "The true assorter total for batch $k$ is $A_k^b \\in [0, N_k u]$; the reported total for batch $k$\n",
    "is $A_k^c \\in [0, N_k u]$;\n",
    "the _overstatement_ in batch $k$ is $E_k := A_k^c - A_k^b \\in [A_k^c-Nu, A_k^c]$ and\n",
    "the _taint_ in batch $k$ is $T_k := A_k^b/A_k^c \\in  [0, N_ku/A_k^c]$.\n",
    "The reported assorter total is $A_0^c := \\sum_k A_k^c = N\\bar{A}^c$;\n",
    "the true assorter total is $A_0^b := \\sum_k A_k^b = N\\bar{A}^b$; the _total overstatement_ is $E_0 = A_0^c - A_0^b$;\n",
    "and the _total taint_ is $T_0 := 1-E_0/A_0^c = A_0^b/A_0^c$.\n",
    "\n",
    "The assertion is true if $\\bar{A}^b > 1/2$, i.e., if $A_0^b > N/2$ or \n",
    "$A_0^b/A_0^c > (N/2)/A_0^c$. \n",
    "\n",
    "We sample batches, with probability of selecting batch $j$ proportional to $A_j^c$.\n",
    "Let $J_i$ denote the index of the batch selected on the $j$th draw; let \n",
    "$T_i := A_{J_i}^b/A_{J_i}^c \\ge 0$ be the taint of that batch.\n",
    "If the sample is drawn without replacement, let $\\mathcal{J}_i := \\cup_{j=1}^i J_i$ be the \n",
    "indices of the batches that have been selected\n",
    "up to and including the $i$th draw.\n",
    "If the sample is drawn with replacement, let $\\mathcal{J}_i := \\emptyset$.\n",
    "For any $\\mathcal{J} \\subset \\{1, \\ldots, K\\}$, let\n",
    "\\begin{eqnarray}\n",
    "\\bar{\\mathcal{J}} &:=& \\{1, \\ldots, K\\} \\setminus \\mathcal{J} \\mbox{ (complement) }\\\\\n",
    "A_{\\mathcal{J}}^b &:=& \\sum_{j \\in \\mathcal{J}} A_j^b \\\\\n",
    "A_{\\mathcal{J}}^c &:=& \\sum_{j \\in \\mathcal{J}} A_j^c.\n",
    "\\end{eqnarray}\n",
    "The chance of drawing batch $j$ in draw $i$ is zero if $j \\in \\mathcal{J}_i$; it is\n",
    "$A_j^c/(A_0^c-A_{\\mathcal{J}_i}^c )$ if $j \\notin \\mathcal{J}_i$.\n",
    "(For sampling with replacement, this is $A_j^c/A_0^c$ in every draw.)\n",
    "Now\n",
    "\\begin{eqnarray}\n",
    "\\mathbb{E} (T_i | T_1, \\ldots, T_{i-1}) \n",
    "   &=& \\sum_{j \\in \\bar{\\mathcal{J}}_{i-1}} \\frac{A_j^c}{A_{\\bar{\\mathcal{J}}_{i-1}}^c} (A_j^b/A_j^c) \\\\\n",
    "   &=&  \\frac{A_{\\bar{\\mathcal{J}}_{i-1}}^b}{A_{\\bar{\\mathcal{J}}_{i-1}}^c}.\n",
    "\\end{eqnarray}\n",
    "Suppose $A_0^b/A_0^c = \\mu$, so $E = U(1-\\mu)$.\n",
    "Then $E_{\\bar{\\mathcal{J}}_{i-1}} = U(1-\\mu) - E_{\\mathcal{J}_{i-1}}$ and\n",
    "$U_{\\bar{\\mathcal{J}}_{i-1}} = U - U_{\\mathcal{J}_{i-1}}$.\n",
    "\\begin{eqnarray}\n",
    "\\mathbb{E} (T_i | T_1, \\ldots, T_{i-1}) \n",
    "  &=& 1 - \\frac{U(1-\\mu) - E_{\\mathcal{J}_{i-1}}}{U - U_{\\mathcal{J}_{i-1}}} \\\\\n",
    "  &=& \\frac{\\mu U + E_{\\mathcal{J}_{i-1}} - U_{\\mathcal{J}_{i-1}}}{U - U_{\\mathcal{J}_{i-1}}}.\n",
    "\\end{eqnarray}\n",
    "For sampling with replacement, that reduces to $\\mu$ because $\\mathcal{J}_{i-1} = \\emptyset$.\n",
    "Let $M_0 :=1$ and for $j>1$ define \n",
    "\\begin{equation}\n",
    "M_j := \\prod_{i \\le j} T_i \\cdot \\frac{U - U_{\\mathcal{J}_{i-1}}}{N/2 + E_{\\mathcal{J}_{i-1}} - U_{\\mathcal{J}_{i-1}}}.\n",
    "\\end{equation}\n",
    "Then $(M_j)_{j \\in \\mathbb{N}}$ is a nonnegative supermartingale starting at 1\n",
    "if $1-E/U \\le N/(2U)$. \n",
    "\n",
    "To estimate sample sizes for batch comparison audits, we will assume all $E_j$ are zero, so each term in the product contributes $2U/N$ to the supermartingale.\n",
    "The number of draws for the test statistic to exceed $1/\\alpha$ is $n = \\lceil \\log(1/\\alpha)/\\log(2U/N) \\rceil$.\n",
    "The chance batch $j$ is selected at least once in $n$ draws is $p_j := 1 - (1-U_j/U)^n$, so the\n",
    "expected sample size is $\\sum_j p_jN_j = \\sum_j N_j(1 - (1-U_j/U)^n)$."
   ]
  },
  {
   "cell_type": "code",
   "execution_count": 15,
   "id": "6845ffb8-b911-4944-bdf6-7f9645bfe00d",
   "metadata": {},
   "outputs": [],
   "source": [
    "def km_batch(Ns: list, x: list, alpha: float=0.05) -> tuple:\n",
    "    '''\n",
    "    Kaplan-Markov draws and expected sample size for batch-comparison audit of one assorter, \n",
    "    no allowance for error.\n",
    "    \n",
    "    Parameters\n",
    "    ----------\n",
    "    Ns: list of ints\n",
    "        number of ballots in each batch\n",
    "    \n",
    "    x: list of floats\n",
    "        the assorter total for each batch\n",
    "    \n",
    "    alpha: float in (0, 1)\n",
    "        risk limit\n",
    "    \n",
    "    Returns\n",
    "    -------\n",
    "    n: int\n",
    "        minimum number of draws\n",
    "    expect: float\n",
    "        expected number of distinct ballots in the sample\n",
    "    '''\n",
    "    N = np.sum(Ns)\n",
    "    U = np.sum(x)\n",
    "    n = math.ceil(math.log(1/alpha)/math.log(2*U/N))\n",
    "    expect = np.sum(Ns*(1-(1-x/U)**n))\n",
    "    return n, expect\n",
    "\n",
    "def batch_assort(Ns: list, winr: list, losr: list) -> np.array:\n",
    "    '''\n",
    "    turn batch subtotals for the winner and loser into assorter totals for the batch\n",
    "    \n",
    "    Parameters\n",
    "    ----------\n",
    "    Ns: list of ints\n",
    "        batch sizes\n",
    "    winr: list of ints\n",
    "        votes for the winner in each batch\n",
    "    losr: list of ints\n",
    "        votes for the loser in each batch\n",
    "    \n",
    "    Returns\n",
    "    -------\n",
    "    tots: np.array of ints\n",
    "        assorter totals for each batch\n",
    "    '''\n",
    "    w = np.array(winr)\n",
    "    return (w + 0.5*(np.array(Ns) - w - np.array(losr)))"
   ]
  },
  {
   "cell_type": "code",
   "execution_count": 16,
   "id": "e77635d9-cbe5-4269-9932-166e0d4ac406",
   "metadata": {},
   "outputs": [
    {
     "data": {
      "text/plain": [
       "(62, 5308.434319418066)"
      ]
     },
     "execution_count": 16,
     "metadata": {},
     "output_type": "execute_result"
    }
   ],
   "source": [
    "faa = 0.99 # fraction of votes for Alice in an Alice-majority precinct\n",
    "fab = 0.01 # fraction of votes for Alice in an Bob-majority precinct\n",
    "pct = 10\n",
    "\n",
    "winr = np.array(\n",
    "           [1]*5000 \n",
    "           + [0]*5000 \n",
    "           + [int(faa*N_per_pct)]*int(pct/2) \n",
    "           + [int(fab*N_per_pct)]*int(pct/2)\n",
    "        )\n",
    "losr = np.array(\n",
    "           [0]*5000 + [1]*4000 + [0]*1000\n",
    "         + [int((1-faa)*N_per_pct)]*int(pct/2)\n",
    "         + [int((1-fab)*N_per_pct)]*int(pct/2)\n",
    "        )\n",
    "Ns = np.array([1]*10000 + [1000]*10)\n",
    "\n",
    "x = batch_assort(Ns, winr, losr)\n",
    "alpha = 0.05\n",
    "km_batch(Ns, x, alpha)"
   ]
  },
  {
   "cell_type": "markdown",
   "id": "f4ee432c-3ef8-4153-a1fa-f8f2312ed7bd",
   "metadata": {},
   "source": [
    "# Georgia 2022 audit"
   ]
  },
  {
   "cell_type": "code",
   "execution_count": 17,
   "id": "acd54237-b6c4-42ff-9ad4-db524f462cc0",
   "metadata": {},
   "outputs": [],
   "source": [
    "file_dir = './2022-11-08-georgia-rla-county-batch-tallies' # 2022 Georgia midterms\n",
    "col_names = ['Batch Name', 'Brad Raffensperger (I) (Rep)', 'Bee Nguyen (Dem)', 'Ted Metz (Lib)']\n",
    "\n",
    "winr = col_names[1]\n",
    "losr = col_names[2]\n",
    "othr = col_names[3]\n",
    "cards = 'cards'"
   ]
  },
  {
   "cell_type": "code",
   "execution_count": 18,
   "id": "f63d4ef4-301a-458a-8867-76396b083e26",
   "metadata": {},
   "outputs": [
    {
     "name": "stdout",
     "output_type": "stream",
     "text": [
      "n_files=159\n"
     ]
    }
   ],
   "source": [
    "first = True\n",
    "rows = 0\n",
    "n_files = 0\n",
    "for subdir, dirs, files in os.walk(file_dir):\n",
    "    for file in files:\n",
    "        if file.endswith('.csv'):\n",
    "            n_files += 1\n",
    "            batch = pd.read_csv(os.path.join(subdir,file), sep=',', header=0, names=col_names)\n",
    "            rows += len(batch[col_names[0]])\n",
    "            if first: \n",
    "                first = False\n",
    "                batches = batch.copy()\n",
    "            else:\n",
    "                batches = pd.concat([batches, batch])\n",
    "\n",
    "print(f'{n_files=}')"
   ]
  },
  {
   "cell_type": "code",
   "execution_count": 19,
   "id": "a61e44a3-4470-471f-8e13-6f178fed038f",
   "metadata": {},
   "outputs": [
    {
     "data": {
      "text/plain": [
       "(12968, 12968)"
      ]
     },
     "execution_count": 19,
     "metadata": {},
     "output_type": "execute_result"
    }
   ],
   "source": [
    "len(batches['Batch Name']), rows"
   ]
  },
  {
   "cell_type": "code",
   "execution_count": 20,
   "id": "3e356039-1b11-4455-899c-861a2d490c33",
   "metadata": {},
   "outputs": [
    {
     "data": {
      "text/plain": [
       "Index(['Batch Name', 'Brad Raffensperger (I) (Rep)', 'Bee Nguyen (Dem)',\n",
       "       'Ted Metz (Lib)'],\n",
       "      dtype='object')"
      ]
     },
     "execution_count": 20,
     "metadata": {},
     "output_type": "execute_result"
    }
   ],
   "source": [
    "batches.columns"
   ]
  },
  {
   "cell_type": "code",
   "execution_count": 21,
   "id": "16dab82e-b50b-4274-90d1-4d2c20ba6349",
   "metadata": {},
   "outputs": [
    {
     "data": {
      "text/html": [
       "<div>\n",
       "<style scoped>\n",
       "    .dataframe tbody tr th:only-of-type {\n",
       "        vertical-align: middle;\n",
       "    }\n",
       "\n",
       "    .dataframe tbody tr th {\n",
       "        vertical-align: top;\n",
       "    }\n",
       "\n",
       "    .dataframe thead th {\n",
       "        text-align: right;\n",
       "    }\n",
       "</style>\n",
       "<table border=\"1\" class=\"dataframe\">\n",
       "  <thead>\n",
       "    <tr style=\"text-align: right;\">\n",
       "      <th></th>\n",
       "      <th>Batch Name</th>\n",
       "      <th>Brad Raffensperger (I) (Rep)</th>\n",
       "      <th>Bee Nguyen (Dem)</th>\n",
       "      <th>Ted Metz (Lib)</th>\n",
       "    </tr>\n",
       "  </thead>\n",
       "  <tbody>\n",
       "    <tr>\n",
       "      <th>0</th>\n",
       "      <td>ICC - Absentee By Mail - 1</td>\n",
       "      <td>26</td>\n",
       "      <td>22</td>\n",
       "      <td>0</td>\n",
       "    </tr>\n",
       "    <tr>\n",
       "      <th>1</th>\n",
       "      <td>ICC - Absentee By Mail - 4</td>\n",
       "      <td>31</td>\n",
       "      <td>11</td>\n",
       "      <td>1</td>\n",
       "    </tr>\n",
       "    <tr>\n",
       "      <th>2</th>\n",
       "      <td>ICC - Absentee By Mail - 5</td>\n",
       "      <td>16</td>\n",
       "      <td>33</td>\n",
       "      <td>0</td>\n",
       "    </tr>\n",
       "    <tr>\n",
       "      <th>3</th>\n",
       "      <td>ICC - Absentee By Mail - 6</td>\n",
       "      <td>28</td>\n",
       "      <td>20</td>\n",
       "      <td>1</td>\n",
       "    </tr>\n",
       "    <tr>\n",
       "      <th>4</th>\n",
       "      <td>ICC - Absentee By Mail - 7</td>\n",
       "      <td>32</td>\n",
       "      <td>17</td>\n",
       "      <td>0</td>\n",
       "    </tr>\n",
       "  </tbody>\n",
       "</table>\n",
       "</div>"
      ],
      "text/plain": [
       "                   Batch Name  Brad Raffensperger (I) (Rep)  Bee Nguyen (Dem)  \\\n",
       "0  ICC - Absentee By Mail - 1                            26                22   \n",
       "1  ICC - Absentee By Mail - 4                            31                11   \n",
       "2  ICC - Absentee By Mail - 5                            16                33   \n",
       "3  ICC - Absentee By Mail - 6                            28                20   \n",
       "4  ICC - Absentee By Mail - 7                            32                17   \n",
       "\n",
       "   Ted Metz (Lib)  \n",
       "0               0  \n",
       "1               1  \n",
       "2               0  \n",
       "3               1  \n",
       "4               0  "
      ]
     },
     "execution_count": 21,
     "metadata": {},
     "output_type": "execute_result"
    }
   ],
   "source": [
    "batches.head()"
   ]
  },
  {
   "cell_type": "code",
   "execution_count": 22,
   "id": "a0208bc6-ea3c-4ddd-aa8b-f318f36b23c0",
   "metadata": {},
   "outputs": [
    {
     "name": "stdout",
     "output_type": "stream",
     "text": [
      "Brad Raffensperger (I) (Rep): 2081211 \t reported: 2081241 \t diff: -30\n",
      "Bee Nguyen (Dem): 1719889 \t reported: 1719922 \t diff: -33\n",
      "Ted Metz (Lib): 108883 \t reported: 108884 \t diff: -1\n"
     ]
    }
   ],
   "source": [
    "# reported results per https://results.enr.clarityelections.com/GA/115465/web.307039/#/summary, 12/15/22\n",
    "results = [2081241, 1719922, 108884]\n",
    "batch_results = {}\n",
    "\n",
    "for i, cn in enumerate(col_names[1:]):\n",
    "    batch_results[cn] = np.sum(batches[cn])\n",
    "    print(f'{cn}: {batch_results[cn]} \\t reported: {results[i]} \\t diff: {batch_results[cn]-results[i]}')"
   ]
  },
  {
   "cell_type": "code",
   "execution_count": 23,
   "id": "03f30a5b-b964-46e2-b73c-a03c46275d84",
   "metadata": {},
   "outputs": [],
   "source": [
    "batches[cards] = batches[winr] + batches[losr] + batches[othr]  # the batch reports do not include the number of cards\n",
    "n_cards = np.sum(batches[cards])"
   ]
  },
  {
   "cell_type": "code",
   "execution_count": 24,
   "id": "c098dfa2-5a0d-4bdb-8c48-4e88eb04f453",
   "metadata": {},
   "outputs": [
    {
     "data": {
      "text/plain": [
       "0.09240168051881556"
      ]
     },
     "execution_count": 24,
     "metadata": {},
     "output_type": "execute_result"
    }
   ],
   "source": [
    "# diluted margin\n",
    "(2081211-1719922)/n_cards"
   ]
  },
  {
   "cell_type": "code",
   "execution_count": 25,
   "id": "4f78458e-68ce-4f1d-a3bf-06e46c0add19",
   "metadata": {},
   "outputs": [
    {
     "data": {
      "text/plain": [
       "3909983"
      ]
     },
     "execution_count": 25,
     "metadata": {},
     "output_type": "execute_result"
    }
   ],
   "source": [
    "n_cards"
   ]
  },
  {
   "cell_type": "code",
   "execution_count": 26,
   "id": "e7dfb6bc-f5e6-47ac-9fac-70102aa987ef",
   "metadata": {},
   "outputs": [
    {
     "name": "stdout",
     "output_type": "stream",
     "text": [
      "n_cards=3909983 margin_votes=361322 v= 0.0924 eta= 0.5242 u_over= 1.0484\n"
     ]
    }
   ],
   "source": [
    "# sampling probabilities\n",
    "batches['p'] = batches[cards]/n_cards\n",
    "\n",
    "# reported assorter means\n",
    "batches['A'] = (batches[winr] + 0.5*(batches[cards]-batches[winr]-batches[losr]))/batches[cards]\n",
    "\n",
    "# reported overall assorter mean\n",
    "Abar = np.sum(batches['A']*batches[cards])/n_cards\n",
    "\n",
    "margin_votes = np.sum(batches[winr]) - np.sum(batches[losr])\n",
    "v = 2*Abar-1\n",
    "u=1\n",
    "eta = u/(2*u-v)\n",
    "u_over = 2*eta\n",
    "\n",
    "print(f'{n_cards=} {margin_votes=} {v= :.4f} {eta= :.4f} {u_over= :.4f}')"
   ]
  },
  {
   "cell_type": "code",
   "execution_count": 27,
   "id": "4c5d4150-605a-4aa7-8610-339597721897",
   "metadata": {},
   "outputs": [
    {
     "data": {
      "text/plain": [
       "(3909983, 3909983, 3909983, 0.5242216949890623, 1.0484433899781247)"
      ]
     },
     "execution_count": 27,
     "metadata": {},
     "output_type": "execute_result"
    }
   ],
   "source": [
    "# make synthetic set of assorter values and corresponding overstatements\n",
    "synth, synth_a, eta_synth, u_synth = make_data(batches, v, eta, u)\n",
    "\n",
    "len(synth), len(synth_a), n_cards, eta_synth, u_synth"
   ]
  },
  {
   "cell_type": "code",
   "execution_count": 28,
   "id": "9aa08977-d183-4dd2-8499-721d2b873d3a",
   "metadata": {},
   "outputs": [],
   "source": [
    "c = 1/2\n",
    "reps = 10**2\n",
    "dl = [10, 100, 1000]\n",
    "alpha = 0.05"
   ]
  },
  {
   "cell_type": "code",
   "execution_count": 29,
   "id": "40a9d626-9a2a-4730-bd8c-34611b640b3a",
   "metadata": {},
   "outputs": [
    {
     "name": "stdout",
     "output_type": "stream",
     "text": [
      "reps:  0  1  2  3  4  5  6  7  8  9  10  11  12  13  14  15  16  17  18  19  20  21  22  23  24  25  26  27  28  29  30  31  32  33  34  35  36  37  38  39  40  41  42  43  44  45  46  47  48  49  50  51  52  53  54  55  56  57  58  59  60  61  62  63  64  65  66  67  68  69  70  71  72  73  74  75  76  77  78  79  80  81  82  83  84  85  86  87  88  89  90  91  92  93  94  95  96  97  98  99  "
     ]
    },
    {
     "data": {
      "text/plain": [
       "({'rej_N': 1504.1, 'not_rej_N': 0.0},\n",
       " {10: {'rej_N': 1363.3, 'not_rej_N': 0.0},\n",
       "  100: {'rej_N': 1465.64, 'not_rej_N': 0.0},\n",
       "  1000: {'rej_N': 1567.02, 'not_rej_N': 0.0}})"
      ]
     },
     "execution_count": 29,
     "metadata": {},
     "output_type": "execute_result"
    }
   ],
   "source": [
    "x = synth.copy()\n",
    "results_inf, results_d = oneaudit(x, alpha, u_synth, eta_synth, dl, c, reps)\n",
    "results_inf, results_d"
   ]
  },
  {
   "cell_type": "code",
   "execution_count": 30,
   "id": "893ab3ee-8f21-428f-baab-a73f4490f1c8",
   "metadata": {},
   "outputs": [
    {
     "name": "stdout",
     "output_type": "stream",
     "text": [
      "reps:  0  1  2  3  4  5  6  7  8  9  10  11  12  13  14  15  16  17  18  19  20  21  22  23  24  25  26  27  28  29  30  31  32  33  34  35  36  37  38  39  40  41  42  43  44  45  46  47  48  49  50  51  52  53  54  55  56  57  58  59  60  61  62  63  64  65  66  67  68  69  70  71  72  73  74  75  76  77  78  79  80  81  82  83  84  85  86  87  88  89  90  91  92  93  94  95  96  97  98  99  "
     ]
    },
    {
     "data": {
      "text/plain": [
       "({'rej_N': 687.47, 'not_rej_N': 0.0},\n",
       " {10: {'rej_N': 870.41, 'not_rej_N': 0.0},\n",
       "  100: {'rej_N': 761.35, 'not_rej_N': 0.0},\n",
       "  1000: {'rej_N': 702.25, 'not_rej_N': 0.0}})"
      ]
     },
     "execution_count": 30,
     "metadata": {},
     "output_type": "execute_result"
    }
   ],
   "source": [
    "x = synth_a.copy()\n",
    "results_inf, results_d = ballot_polling(x, alpha, Abar, dl, c, reps)\n",
    "results_inf, results_d"
   ]
  },
  {
   "cell_type": "code",
   "execution_count": 31,
   "id": "c2ea04e4-0d5d-422b-9783-fddcea2c28b4",
   "metadata": {},
   "outputs": [
    {
     "data": {
      "text/plain": [
       "(12968, 12968)"
      ]
     },
     "execution_count": 31,
     "metadata": {},
     "output_type": "execute_result"
    }
   ],
   "source": [
    "len(batches[cards]), len(batches[winr])"
   ]
  },
  {
   "cell_type": "code",
   "execution_count": 32,
   "id": "07f86d8b-b9e2-434b-a9d7-3e3cda28bcd0",
   "metadata": {},
   "outputs": [
    {
     "data": {
      "text/plain": [
       "(34, 103287.04134915333)"
      ]
     },
     "execution_count": 32,
     "metadata": {},
     "output_type": "execute_result"
    }
   ],
   "source": [
    "x = batch_assort(batches[cards], batches[winr], batches[losr])\n",
    "alpha = 0.05\n",
    "km_batch(batches[cards], x, alpha)"
   ]
  },
  {
   "cell_type": "markdown",
   "id": "0b52a6dd-bf4b-4365-b9a0-86c85edcf77a",
   "metadata": {},
   "source": [
    "# California 2020\n",
    "\n",
    "Data from https://statewidedatabase.org/d10/g20.html\n",
    "\n",
    "## President"
   ]
  },
  {
   "cell_type": "code",
   "execution_count": 33,
   "id": "522ea194-7d6e-4741-87f0-72433a041ece",
   "metadata": {},
   "outputs": [],
   "source": [
    "fn = './CA/state_g20_sov_data_by_g20_srprec.csv'\n",
    "batches_ca_20 = pd.read_csv(fn)\n",
    "batches = batches_ca_20.copy()"
   ]
  },
  {
   "cell_type": "code",
   "execution_count": 34,
   "id": "2b5bfcdd-c5d9-4fd6-8f28-92b46fb1215c",
   "metadata": {},
   "outputs": [
    {
     "data": {
      "text/plain": [
       "Index(['COUNTY', 'FIPS', 'SRPREC_KEY', 'SRPREC', 'ADDIST', 'CDDIST', 'SDDIST',\n",
       "       'BEDIST', 'TOTREG', 'DEMREG', 'REPREG', 'AIPREG', 'GRNREG', 'LIBREG',\n",
       "       'NLPREG', 'REFREG', 'DCLREG', 'MSCREG', 'TOTVOTE', 'DEMVOTE', 'REPVOTE',\n",
       "       'AIPVOTE', 'GRNVOTE', 'LIBVOTE', 'NLPVOTE', 'REFVOTE', 'DCLVOTE',\n",
       "       'MSCVOTE', 'PRCVOTE', 'ABSVOTE', 'ASSDEM01', 'ASSDEM02', 'ASSGRN01',\n",
       "       'ASSIND01', 'ASSLIB01', 'ASSREP01', 'ASSREP02', 'CNGDEM01', 'CNGDEM02',\n",
       "       'CNGREP01', 'PRSAIP01', 'PRSDEM01', 'PRSGRN01', 'PRSLIB01', 'PRSPAF01',\n",
       "       'PRSREP01', 'PR_14_N', 'PR_14_Y', 'PR_15_N', 'PR_15_Y', 'PR_16_N',\n",
       "       'PR_16_Y', 'PR_17_N', 'PR_17_Y', 'PR_18_N', 'PR_18_Y', 'PR_19_N',\n",
       "       'PR_19_Y', 'PR_20_N', 'PR_20_Y', 'PR_21_N', 'PR_21_Y', 'PR_22_N',\n",
       "       'PR_22_Y', 'PR_23_N', 'PR_23_Y', 'PR_24_N', 'PR_24_Y', 'PR_25_N',\n",
       "       'PR_25_Y', 'SENAIP01', 'SENDEM01', 'SENDEM02', 'SENLIB01', 'SENREP01'],\n",
       "      dtype='object')"
      ]
     },
     "execution_count": 34,
     "metadata": {},
     "output_type": "execute_result"
    }
   ],
   "source": [
    "col_names = batches.columns\n",
    "col_names"
   ]
  },
  {
   "cell_type": "code",
   "execution_count": 35,
   "id": "0f1bc55e-585f-4000-9ebc-7382a9bd7853",
   "metadata": {},
   "outputs": [
    {
     "data": {
      "text/plain": [
       "21346"
      ]
     },
     "execution_count": 35,
     "metadata": {},
     "output_type": "execute_result"
    }
   ],
   "source": [
    "len(batches[col_names[0]])"
   ]
  },
  {
   "cell_type": "code",
   "execution_count": 36,
   "id": "053f8090-579e-414b-870c-60d65b3f460d",
   "metadata": {},
   "outputs": [
    {
     "name": "stdout",
     "output_type": "stream",
     "text": [
      "18 TOTVOTE 17785667\n",
      "19 DEMVOTE 0\n",
      "20 REPVOTE 0\n",
      "21 AIPVOTE 0\n",
      "22 GRNVOTE 0\n",
      "23 LIBVOTE 0\n",
      "24 NLPVOTE 0\n",
      "25 REFVOTE 0\n",
      "26 DCLVOTE 0\n",
      "27 MSCVOTE 0\n",
      "28 PRCVOTE 0\n",
      "29 ABSVOTE 0\n",
      "30 ASSDEM01 9133718\n",
      "31 ASSDEM02 945914\n",
      "32 ASSGRN01 41100\n",
      "33 ASSIND01 157133\n",
      "34 ASSLIB01 76377\n",
      "35 ASSREP01 5588332\n",
      "36 ASSREP02 133825\n",
      "37 CNGDEM01 10156664\n",
      "38 CNGDEM02 927963\n",
      "39 CNGREP01 5640768\n",
      "40 PRSAIP01 60162\n",
      "41 PRSDEM01 11110639\n",
      "42 PRSGRN01 81032\n",
      "43 PRSLIB01 187910\n",
      "44 PRSPAF01 51038\n",
      "45 PRSREP01 6006518\n",
      "46 PR_14_N 8222302\n",
      "47 PR_14_Y 8588954\n",
      "48 PR_15_N 8885734\n",
      "49 PR_15_Y 8213383\n",
      "50 PR_16_N 9655878\n",
      "51 PR_16_Y 7217278\n",
      "52 PR_17_N 7069286\n",
      "53 PR_17_Y 9985952\n",
      "54 PR_18_N 9578025\n",
      "55 PR_18_Y 7514596\n",
      "56 PR_19_N 8176289\n",
      "57 PR_19_Y 8546103\n",
      "58 PR_20_N 10294406\n",
      "59 PR_20_Y 6385965\n",
      "60 PR_21_N 10095407\n",
      "61 PR_21_Y 6771578\n",
      "62 PR_22_N 7028077\n",
      "63 PR_22_Y 9958669\n",
      "64 PR_23_N 10681400\n",
      "65 PR_23_Y 6161704\n",
      "66 PR_24_N 7305584\n",
      "67 PR_24_Y 9384955\n",
      "68 PR_25_N 9358419\n",
      "69 PR_25_Y 7232660\n",
      "70 SENAIP01 89080\n",
      "71 SENDEM01 5056543\n",
      "72 SENDEM02 594590\n",
      "73 SENLIB01 53256\n",
      "74 SENREP01 2751408\n"
     ]
    }
   ],
   "source": [
    "for i, cn in enumerate(col_names[18:]):\n",
    "    print(f'{i+18} {cn} {np.sum(batches[cn])}')"
   ]
  },
  {
   "cell_type": "code",
   "execution_count": 37,
   "id": "04a2c22f-d694-4713-a453-b3a1698e7f99",
   "metadata": {},
   "outputs": [],
   "source": [
    "winr = col_names[41]\n",
    "losr = col_names[45]\n",
    "cards = col_names[18]\n",
    "\n",
    "n_cards = np.sum(batches[cards])\n",
    "# sampling probabilities\n",
    "batches['p'] = batches[cards]/n_cards"
   ]
  },
  {
   "cell_type": "code",
   "execution_count": 38,
   "id": "daa0bab5-d92b-48b8-8bee-0bd467d1730d",
   "metadata": {},
   "outputs": [
    {
     "name": "stdout",
     "output_type": "stream",
     "text": [
      "n_cards=17785667 margin_votes=5104121 v= 0.2870 eta= 0.5838 u_over= 1.1675\n"
     ]
    }
   ],
   "source": [
    "# Assorter means\n",
    "batches['A'] = (batches[winr]+0.5*(batches[cards]-batches[winr]-batches[losr]))/batches[cards]\n",
    "\n",
    "# Reported overall assorter mean\n",
    "Abar = np.sum(batches['A']*batches[cards])/n_cards\n",
    "\n",
    "margin_votes = np.sum(batches[winr]) - np.sum(batches[losr])\n",
    "v = 2*Abar-1\n",
    "u=1\n",
    "eta = u/(2*u-v)\n",
    "u_over = 2*eta\n",
    "\n",
    "print(f'{n_cards=} {margin_votes=} {v= :.4f} {eta= :.4f} {u_over= :.4f}')"
   ]
  },
  {
   "cell_type": "code",
   "execution_count": 39,
   "id": "be03bcff-5b44-4ff4-8544-4a6f4a5e6dfb",
   "metadata": {},
   "outputs": [
    {
     "data": {
      "text/plain": [
       "(17785667, 17785667, 17785667, 1.0, 1.1675283197055142)"
      ]
     },
     "execution_count": 39,
     "metadata": {},
     "output_type": "execute_result"
    }
   ],
   "source": [
    "# make synthetic set of assorter values and corresponding overstatements\n",
    "\n",
    "synth, synth_a, eta_synth, u_synth = make_data(batches, v, u)\n",
    "len(synth), len(synth_a), n_cards, eta_synth, u_synth"
   ]
  },
  {
   "cell_type": "code",
   "execution_count": 40,
   "id": "5e723cbe-10c7-48fe-a65c-85742774eb14",
   "metadata": {},
   "outputs": [
    {
     "data": {
      "text/plain": [
       "(0.016635766213420534, 1.1548377944913237)"
      ]
     },
     "execution_count": 40,
     "metadata": {},
     "output_type": "execute_result"
    }
   ],
   "source": [
    "min(synth), max(synth)"
   ]
  },
  {
   "cell_type": "code",
   "execution_count": 41,
   "id": "9684b358-b87a-419f-a496-46d10d77c5ae",
   "metadata": {},
   "outputs": [
    {
     "data": {
      "text/plain": [
       "(0.0, 1.0)"
      ]
     },
     "execution_count": 41,
     "metadata": {},
     "output_type": "execute_result"
    }
   ],
   "source": [
    "min(synth_a), max(synth_a)"
   ]
  },
  {
   "cell_type": "code",
   "execution_count": 42,
   "id": "ce2db03b-00a4-46c6-9554-fe09159ab116",
   "metadata": {},
   "outputs": [],
   "source": [
    "c = 1/2\n",
    "reps = 10**3\n",
    "dl = [10, 100, 1000]\n",
    "alpha = 0.05"
   ]
  },
  {
   "cell_type": "code",
   "execution_count": 43,
   "id": "5e123314-e705-4feb-9d4b-f077d69bcf60",
   "metadata": {},
   "outputs": [
    {
     "ename": "TypeError",
     "evalue": "oneaudit() got an unexpected keyword argument 'verbost'",
     "output_type": "error",
     "traceback": [
      "\u001b[0;31m---------------------------------------------------------------------------\u001b[0m",
      "\u001b[0;31mTypeError\u001b[0m                                 Traceback (most recent call last)",
      "Input \u001b[0;32mIn [43]\u001b[0m, in \u001b[0;36m<cell line: 2>\u001b[0;34m()\u001b[0m\n\u001b[1;32m      1\u001b[0m x \u001b[38;5;241m=\u001b[39m synth\u001b[38;5;241m.\u001b[39mcopy()\n\u001b[0;32m----> 2\u001b[0m results_inf, results_d \u001b[38;5;241m=\u001b[39m \u001b[43moneaudit\u001b[49m\u001b[43m(\u001b[49m\u001b[43mx\u001b[49m\u001b[43m,\u001b[49m\u001b[43m \u001b[49m\u001b[43malpha\u001b[49m\u001b[43m,\u001b[49m\u001b[43m \u001b[49m\u001b[43mu_synth\u001b[49m\u001b[43m,\u001b[49m\u001b[43m \u001b[49m\u001b[43meta_synth\u001b[49m\u001b[43m,\u001b[49m\u001b[43m \u001b[49m\u001b[43mdl\u001b[49m\u001b[43m,\u001b[49m\u001b[43m \u001b[49m\u001b[43mc\u001b[49m\u001b[43m,\u001b[49m\u001b[43m \u001b[49m\u001b[43mreps\u001b[49m\u001b[43m,\u001b[49m\u001b[43m \u001b[49m\u001b[43mverbost\u001b[49m\u001b[38;5;241;43m=\u001b[39;49m\u001b[38;5;28;43;01mFalse\u001b[39;49;00m\u001b[43m)\u001b[49m\n\u001b[1;32m      3\u001b[0m results_inf, results_d\n",
      "\u001b[0;31mTypeError\u001b[0m: oneaudit() got an unexpected keyword argument 'verbost'"
     ]
    }
   ],
   "source": [
    "x = synth.copy()\n",
    "results_inf, results_d = oneaudit(x, alpha, u_synth, eta_synth, dl, c, reps, verbost=False)\n",
    "results_inf, results_d"
   ]
  },
  {
   "cell_type": "code",
   "execution_count": null,
   "id": "9666ad1e-dff3-43a4-9a3e-bf0a6e04f45b",
   "metadata": {},
   "outputs": [],
   "source": [
    "x = synth_a.copy()\n",
    "results_inf, results_d = ballot_polling(x, alpha, Abar, dl, c, reps, verbose=False)\n",
    "results_inf, results_d"
   ]
  },
  {
   "cell_type": "code",
   "execution_count": null,
   "id": "3e88b2cb-7cb6-45d9-bcbd-a6546a28b4f4",
   "metadata": {},
   "outputs": [],
   "source": [
    "batches.head()"
   ]
  },
  {
   "cell_type": "code",
   "execution_count": null,
   "id": "0e252b02-f9b0-4e0e-b23b-0c8b485390a5",
   "metadata": {},
   "outputs": [],
   "source": [
    "## batch-comparison\n",
    "x = batch_assort(batches[cards], batches[winr], batches[losr])\n",
    "alpha = 0.05\n",
    "km_batch(batches[cards], x, alpha)"
   ]
  },
  {
   "cell_type": "code",
   "execution_count": null,
   "id": "68241190-f30a-4fb9-8d85-7f0eb5eca209",
   "metadata": {},
   "outputs": [],
   "source": [
    "26687/70"
   ]
  },
  {
   "cell_type": "code",
   "execution_count": null,
   "id": "3a6db78a-759e-492f-aa98-ac1f8916b517",
   "metadata": {},
   "outputs": [],
   "source": [
    "np.sort(batches[cards])[-30:]"
   ]
  },
  {
   "cell_type": "markdown",
   "id": "cfaa3325-f682-49e9-a1fc-1449b0bdcf79",
   "metadata": {},
   "source": [
    "# 2020 California Prop 14\n",
    "\n",
    "## Stem Cell Research Institute Bond Initiative\n",
    "\n",
    "Official results\n",
    "\n",
    "Yes 8,588,618 51.09%\n",
    "No 8,222,154 48.91%"
   ]
  },
  {
   "cell_type": "code",
   "execution_count": null,
   "id": "f1cd5c9b-f5c9-4889-9b75-f8d80f55bfac",
   "metadata": {},
   "outputs": [],
   "source": [
    "batches = batches_ca_20.copy()\n",
    "\n",
    "winr = col_names[47]\n",
    "losr = col_names[46]\n",
    "cards = col_names[18]\n",
    "\n",
    "n_cards = np.sum(batches[cards])\n",
    "# sampling probabilities\n",
    "batches['p'] = batches[cards]/n_cards"
   ]
  },
  {
   "cell_type": "code",
   "execution_count": null,
   "id": "9d978a5a-da59-4921-9cb9-7cc18746ecc2",
   "metadata": {
    "tags": []
   },
   "outputs": [],
   "source": [
    "# there's a batch with more votes than ballots\n",
    "test = list((batches[cards] - batches[winr] - batches[losr]) < 0)     \n",
    "inx = test.index(1)"
   ]
  },
  {
   "cell_type": "code",
   "execution_count": null,
   "id": "6663664e-3c58-43af-a4b6-ace82b319eae",
   "metadata": {},
   "outputs": [],
   "source": [
    "row = batches.iloc[inx]\n",
    "print(row)"
   ]
  },
  {
   "cell_type": "code",
   "execution_count": null,
   "id": "4f610ab9-9bc9-47ca-8e12-7a0ddcadd7c1",
   "metadata": {},
   "outputs": [],
   "source": [
    "row[winr], row[losr], row[cards]"
   ]
  },
  {
   "cell_type": "code",
   "execution_count": null,
   "id": "dfebdba2-3358-4ad9-89a8-965de5c3eb26",
   "metadata": {},
   "outputs": [],
   "source": [
    "# drop that batch of ballots\n",
    "batches = batches.drop([inx])\n",
    "n_cards = np.sum(batches[cards])\n",
    "# re-compute sampling probabilities\n",
    "batches['p'] = batches[cards]/n_cards"
   ]
  },
  {
   "cell_type": "code",
   "execution_count": null,
   "id": "f811ecae-e9c6-4ac5-98f6-41fd8feafb2f",
   "metadata": {},
   "outputs": [],
   "source": [
    "# sampling probabilities\n",
    "batches['p'] = batches[cards]/n_cards\n",
    "\n",
    "# Assorter means\n",
    "batches['A'] = (batches[winr]+0.5*(batches[cards]-batches[winr]-batches[losr]))/batches[cards]\n",
    "\n",
    "# Reported overall assorter mean\n",
    "Abar = np.sum(batches['A']*batches[cards])/n_cards\n",
    "\n",
    "margin_votes = np.sum(batches[winr]) - np.sum(batches[losr])\n",
    "v = 2*Abar-1\n",
    "u=1\n",
    "eta = u/(2*u-v)\n",
    "u_over = 2*eta\n",
    "\n",
    "print(f'{n_cards=} {margin_votes=} {v= :.4f} {eta= :.4f} {u_over= :.4f}')"
   ]
  },
  {
   "cell_type": "code",
   "execution_count": null,
   "id": "bad349e1-06e9-4ea0-9d86-ff908a8ad1e6",
   "metadata": {},
   "outputs": [],
   "source": [
    "# make synthetic set of assorter values and corresponding overstatements\n",
    "\n",
    "synth, synth_a, eta_synth, u_synth = make_data(batches, v, u)\n",
    "len(synth), len(synth_a), n_cards, eta_synth, u_synth"
   ]
  },
  {
   "cell_type": "code",
   "execution_count": null,
   "id": "ed7c88a5-3bca-41ea-b8a3-d8372a80c1b8",
   "metadata": {},
   "outputs": [],
   "source": [
    "n_cards = 17785664\n",
    "min(synth), max(synth)"
   ]
  },
  {
   "cell_type": "code",
   "execution_count": null,
   "id": "b8df2538-801a-4278-91d1-2342ae66a6c9",
   "metadata": {},
   "outputs": [],
   "source": [
    "min(synth_a), max(synth_a)"
   ]
  },
  {
   "cell_type": "code",
   "execution_count": null,
   "id": "49ee1e30-8a27-4b74-b53d-f37620944302",
   "metadata": {},
   "outputs": [],
   "source": [
    "c = 1/2\n",
    "reps = 10**2\n",
    "dl = [10, 100, 1000]\n",
    "alpha = 0.05"
   ]
  },
  {
   "cell_type": "code",
   "execution_count": null,
   "id": "6096bd35-6317-419d-b422-de396e82aebd",
   "metadata": {},
   "outputs": [],
   "source": [
    "x = synth.copy()\n",
    "results_inf, results_d = oneaudit(x, alpha, u_synth, eta_synth, dl, c, reps)\n",
    "results_inf, results_d"
   ]
  },
  {
   "cell_type": "code",
   "execution_count": null,
   "id": "69305d60-5b06-44de-b0fc-b745f889262f",
   "metadata": {},
   "outputs": [],
   "source": [
    "x = synth_a.copy()\n",
    "results_inf, results_d = ballot_polling(x, alpha, Abar, dl, c, reps)\n",
    "results_inf, results_d"
   ]
  }
 ],
 "metadata": {
  "kernelspec": {
   "display_name": "Python 3 (ipykernel)",
   "language": "python",
   "name": "python3"
  },
  "language_info": {
   "codemirror_mode": {
    "name": "ipython",
    "version": 3
   },
   "file_extension": ".py",
   "mimetype": "text/x-python",
   "name": "python",
   "nbconvert_exporter": "python",
   "pygments_lexer": "ipython3",
   "version": "3.10.4"
  }
 },
 "nbformat": 4,
 "nbformat_minor": 5
}
